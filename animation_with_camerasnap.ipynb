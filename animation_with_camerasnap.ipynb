{
 "cells": [
  {
   "cell_type": "markdown",
   "metadata": {},
   "source": [
    "# In this program we have created annimation with camera snap. Another easy method to create annimated visualization"
   ]
  },
  {
   "cell_type": "markdown",
   "metadata": {},
   "source": [
    "### author: Chandrima Chakrabarty (chakrabartychandrima91@gmail.com)"
   ]
  },
  {
   "cell_type": "code",
   "execution_count": 1,
   "metadata": {},
   "outputs": [
    {
     "name": "stderr",
     "output_type": "stream",
     "text": [
      "C:\\Users\\This-PC\\Anaconda3\\lib\\site-packages\\cartopy\\mpl\\geoaxes.py:1400: UserWarning: The following kwargs were not used by contour: 'frames', 'interval', 'blit'\n",
      "  result = matplotlib.axes.Axes.contourf(self, *args, **kwargs)\n",
      "C:\\Users\\This-PC\\Anaconda3\\lib\\site-packages\\cartopy\\mpl\\geoaxes.py:1366: UserWarning: The following kwargs were not used by contour: 'color'\n",
      "  result = matplotlib.axes.Axes.contour(self, *args, **kwargs)\n",
      "C:\\Users\\This-PC\\Anaconda3\\lib\\site-packages\\ipykernel_launcher.py:55: MatplotlibDeprecationWarning: Adding an axes using the same arguments as a previous axes currently reuses the earlier instance.  In a future version, a new instance will always be created and returned.  Meanwhile, this warning can be suppressed, and the future behavior ensured, by passing a unique label to each axes instance.\n",
      "MovieWriter imagemagick unavailable; trying to use <class 'matplotlib.animation.PillowWriter'> instead.\n"
     ]
    },
    {
     "data": {
      "image/png": "[encoded data removed]",
      "text/plain": [
       "<Figure size 1440x864 with 1 Axes>"
      ]
     },
     "metadata": {
      "needs_background": "light"
     },
     "output_type": "display_data"
    }
   ],
   "source": [
    "# Meteorological all parameters (Animation)\n",
    "\n",
    "##### This plot contains animtion of rain,wind(u,v,w) and pressure over india in same plot in different years and months. from global data region is been extracted. \n",
    "\n",
    "##### ***********important: quivar plot, plot with multiple parameters, animation with camera snap,**************\n",
    "\n",
    "import os\n",
    "from netCDF4 import Dataset\n",
    "import numpy as np\n",
    "import matplotlib.pyplot as plt\n",
    "from matplotlib import cm\n",
    "import xarray as xr\n",
    "from cartopy import config\n",
    "import cartopy.crs as ccrs\n",
    "import cartopy.feature as cfeature\n",
    "from matplotlib.cm import get_cmap\n",
    "from scipy.optimize import curve_fit\n",
    "from cartopy.feature import NaturalEarthFeature, LAND, COASTLINE\n",
    "import matplotlib.patches as patches\n",
    "import matplotlib.dates as mdates\n",
    "\n",
    "from cartopy.mpl.ticker import LongitudeFormatter, LatitudeFormatter\n",
    "\n",
    "\n",
    "import matplotlib.animation as animation\n",
    "from celluloid import Camera #for animation\n",
    "from matplotlib.animation import ArtistAnimation\n",
    "\n",
    "rain=xr.open_dataset('D:/pai/data/imdrainfall_MERGED_DATA_S_ASIA_1982_2019.nc')\n",
    "u = xr.open_dataset('D:/pai/data/ncepreanalysis_uwnd.mon.mean_jan1948topresent.nc')\n",
    "v = xr.open_dataset('D:/pai/data/ncepreanalysis_vwind.mon.mean_jan1948topresent.nc')\n",
    "PP= xr.open_dataset('D:/pai/data/ncepreanalysis_pres.surface.mon.mean.nc')\n",
    "\n",
    "ncep_u=u.sel(time=slice('1982-01','2019-12'))           #slicing years from original data\n",
    "ncep_v=v.sel(time=slice('1982-01','2019-12'))\n",
    "SP=PP.sel(time=slice('1982-01','2019-12'))\n",
    "\n",
    "lon_w = ncep_u.lon\n",
    "lat_w = ncep_u.lat\n",
    "lon_r=rain.LONGITUDE\n",
    "lat_r=rain.LATITUDE\n",
    "p=SP.pres/100\n",
    "lon_p = SP.lon\n",
    "lat_p = SP.lat\n",
    "\n",
    "fig=plt.figure(figsize=[20,12])         ##figure size define\n",
    "cmap1 = get_cmap('YlGnBu') \n",
    "img_extent =[40, 120, -10, 50]           #selecting lat lon\n",
    "camera = Camera(fig)                     #camera for animaion\n",
    "images_rain=[]\n",
    "images_pres=[]\n",
    "title = []\n",
    "\n",
    "for i in range(5):\n",
    "    ax = fig.add_subplot(1,1,1,projection=ccrs.PlateCarree())     #subplot 1 with only 1 frame ,plot projecttion\n",
    "    ax.set_extent(img_extent, ccrs.PlateCarree()) \n",
    "    levels=np.arange(0,150,10)\n",
    "    shrink=0.85\n",
    "    #ax.set_extent(img_extent, ccrs.PlateCarree())\n",
    "    ax.coastlines()\n",
    "    \n",
    "\n",
    "   # ax.set_title(\"Histograms for \" + str(rain.time[i]))\n",
    "    \n",
    "    \n",
    "    \n",
    "    ax.set_xticks([40,60,80,100,120], crs=ccrs.PlateCarree())       \n",
    "    ax.set_yticks([-10, 0,10, 20,30,40, 50], crs=ccrs.PlateCarree())\n",
    "    lon_formatter = LongitudeFormatter(zero_direction_label=True)\n",
    "    lat_formatter = LatitudeFormatter()\n",
    "    ax.xaxis.set_major_formatter(lon_formatter)\n",
    "    ax.yaxis.set_major_formatter(lat_formatter)\n",
    "    ax.tick_params(axis='both',labelsize=14)\n",
    "    \n",
    "    c = ax.contourf(lon_r, lat_r, rain.rf[i,:,:], extent=img_extent, cmap=cmap1, #rain contour plot for different months \n",
    "            transform=ccrs.PlateCarree(),frames=100, interval=100, blit=True)\n",
    "    images_rain.append(c.collections)\n",
    "    \n",
    "    cp = ax.contour(lon_p,lat_p,p[i,:,:], 20,extent=img_extent,color='black')       #pressure contour plot\n",
    "    plt.clabel(cp, inline=True, fontsize=15)\n",
    "    images_pres.append(cp.collections)\n",
    "    \n",
    "    q = ax.quiver(lon_w[::2],lat_w[::2],ncep_u.uwnd[i,0,::2,::2],               # u v wind quiver plot\n",
    "               ncep_v.vwnd[i,0,::2,::2],color='r',scale=150)\n",
    "    \n",
    "    #plt.colorbar(c,pad=0.01,ax=ax,shrink=shrink,orientation='vertical')\n",
    "    camera.snap()                                                             #taking every months plot's snap\n",
    "\n",
    "animation = camera.animate()\n",
    "animation.save('2dmetpara_animation.gif', writer = 'imagemagick')         #save files\n",
    "\n",
    "\n",
    "\n"
   ]
  },
  {
   "cell_type": "code",
   "execution_count": null,
   "metadata": {},
   "outputs": [],
   "source": []
  }
 ],
 "metadata": {
  "kernelspec": {
   "display_name": "Python 3",
   "language": "python",
   "name": "python3"
  },
  "language_info": {
   "codemirror_mode": {
    "name": "ipython",
    "version": 3
   },
   "file_extension": ".py",
   "mimetype": "text/x-python",
   "name": "python",
   "nbconvert_exporter": "python",
   "pygments_lexer": "ipython3",
   "version": "3.8.3"
  }
 },
 "nbformat": 4,
 "nbformat_minor": 4
}
