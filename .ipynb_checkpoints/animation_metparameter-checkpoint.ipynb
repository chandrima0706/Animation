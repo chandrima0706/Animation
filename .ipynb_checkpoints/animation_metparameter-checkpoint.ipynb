{
 "cells": [
  {
   "cell_type": "markdown",
   "metadata": {},
   "source": [
    "# Sample Animation Plot"
   ]
  },
  {
   "cell_type": "markdown",
   "metadata": {},
   "source": [
    "### author: Chandrima Chakrabarty (chakrabartychandrima91@gmail.com)"
   ]
  },
  {
   "cell_type": "markdown",
   "metadata": {},
   "source": [
    "##### This script contains single met parameter animation"
   ]
  },
  {
   "cell_type": "markdown",
   "metadata": {},
   "source": [
    "#### important: animation, Changing title"
   ]
  },
  {
   "cell_type": "code",
   "execution_count": 1,
   "metadata": {},
   "outputs": [],
   "source": [
    "import os\n",
    "from netCDF4 import Dataset\n",
    "import numpy as np\n",
    "import matplotlib.pyplot as plt\n",
    "from matplotlib import cm\n",
    "import xarray as xr\n",
    "from cartopy import config\n",
    "import cartopy.crs as ccrs\n",
    "import cartopy.feature as cfeature\n",
    "from matplotlib.cm import get_cmap\n",
    "from scipy.optimize import curve_fit\n",
    "from cartopy.feature import NaturalEarthFeature, LAND, COASTLINE\n",
    "import matplotlib.patches as patches\n",
    "import matplotlib.dates as mdates\n",
    "\n",
    "from cartopy.mpl.ticker import LongitudeFormatter, LatitudeFormatter\n",
    "\n",
    "\n",
    "import matplotlib.animation as animation\n",
    "from celluloid import Camera #for animation\n",
    "from matplotlib.animation import ArtistAnimation"
   ]
  },
  {
   "cell_type": "markdown",
   "metadata": {},
   "source": [
    "# pressure contour annimation"
   ]
  },
  {
   "cell_type": "code",
   "execution_count": 2,
   "metadata": {},
   "outputs": [],
   "source": [
    "SP = xr.open_dataset('D:/pai/data/ncepreanalysis_pres.surface.mon.mean.nc')"
   ]
  },
  {
   "cell_type": "code",
   "execution_count": 3,
   "metadata": {},
   "outputs": [],
   "source": [
    "p=SP.pres/100\n",
    "lon_p = SP.lon\n",
    "lat_p = SP.lat"
   ]
  },
  {
   "cell_type": "code",
   "execution_count": 4,
   "metadata": {},
   "outputs": [
    {
     "name": "stderr",
     "output_type": "stream",
     "text": [
      "MovieWriter imagemagick unavailable; trying to use <class 'matplotlib.animation.PillowWriter'> instead.\n"
     ]
    },
    {
     "data": {
      "image/png": "[encoded data removed]",
      "text/plain": [
       "<Figure size 1440x864 with 1 Axes>"
      ]
     },
     "metadata": {
      "needs_background": "light"
     },
     "output_type": "display_data"
    }
   ],
   "source": [
    "img_extent =[40, 120, -10, 50]\n",
    "\n",
    "\n",
    "fig=plt.figure(figsize=[20,12])\n",
    "camera = Camera(fig)\n",
    "\n",
    "for i in range(120):\n",
    "    cp = plt.contour(lon_p,lat_p,p[i,:,:], 20,extent=img_extent,cmap=\"RdBu\")\n",
    "    plt.clabel(cp, inline=True, fontsize=15)\n",
    "    camera.snap()\n",
    "\n",
    "animation = camera.animate()\n",
    "animation.save('press.gif', writer = 'imagemagick')"
   ]
  },
  {
   "cell_type": "markdown",
   "metadata": {},
   "source": [
    "# Rainfall annimation"
   ]
  },
  {
   "cell_type": "code",
   "execution_count": 5,
   "metadata": {},
   "outputs": [],
   "source": [
    "rain=xr.open_dataset('D:/pai/data/imdrainfall_MERGED_DATA_S_ASIA_1982_2019.nc')"
   ]
  },
  {
   "cell_type": "code",
   "execution_count": 6,
   "metadata": {},
   "outputs": [],
   "source": [
    "lon_r=rain.LONGITUDE\n",
    "lat_r=rain.LATITUDE"
   ]
  },
  {
   "cell_type": "code",
   "execution_count": 7,
   "metadata": {},
   "outputs": [
    {
     "data": {
      "text/plain": [
       "<Figure size 1440x864 with 0 Axes>"
      ]
     },
     "metadata": {},
     "output_type": "display_data"
    }
   ],
   "source": [
    "images_rain=[]\n",
    "fig=plt.figure(figsize=[20,12])\n",
    "cmap1 = get_cmap('YlGnBu') \n",
    "\n",
    "\n",
    "camera = Camera(fig)"
   ]
  },
  {
   "cell_type": "code",
   "execution_count": 8,
   "metadata": {},
   "outputs": [],
   "source": [
    "# levels=np.arange(0,150,10)                                    #set your plot level\n",
    "# shrink=0.85\n",
    "#                               #decide region\n",
    "\n",
    "# ax.set_extent(img_extent, ccrs.PlateCarree())                 #set the required region\n",
    "\n",
    "\n",
    "# ax.coastlines()                                               #add boundary\n",
    "# ax.set_xticks([40,60,80,100,120], crs=ccrs.PlateCarree())        # decide xaxis ticks, for projection: https://scitools.org.uk/cartopy/docs/v0.15/matplotlib/intro.html\n",
    "# ax.set_yticks([-10, 0,10, 20,30,40, 50], crs=ccrs.PlateCarree())  #decide y axis levels\n",
    "# lon_formatter = LongitudeFormatter(zero_direction_label=True)\n",
    "# lat_formatter = LatitudeFormatter()\n",
    "# ax.xaxis.set_major_formatter(lon_formatter)\n",
    "# ax.yaxis.set_major_formatter(lat_formatter)\n",
    "# ax.tick_params(axis='both',labelsize=14)                      #decides tick's size\n"
   ]
  },
  {
   "cell_type": "code",
   "execution_count": 11,
   "metadata": {},
   "outputs": [
    {
     "name": "stderr",
     "output_type": "stream",
     "text": [
      "C:\\Users\\This-PC\\Anaconda3\\lib\\site-packages\\ipykernel_launcher.py:3: MatplotlibDeprecationWarning: Adding an axes using the same arguments as a previous axes currently reuses the earlier instance.  In a future version, a new instance will always be created and returned.  Meanwhile, this warning can be suppressed, and the future behavior ensured, by passing a unique label to each axes instance.\n",
      "  This is separate from the ipykernel package so we can avoid doing imports until\n"
     ]
    }
   ],
   "source": [
    "for i in range (20):\n",
    "    img_extent =[40, 120, -10, 50] \n",
    "    ax = fig.add_subplot(1,1,1,projection=ccrs.PlateCarree())     #subplot 1 with only 1 frame ,plot projecttion\n",
    "    ax.set_extent(img_extent, ccrs.PlateCarree()) \n",
    "    levels=np.arange(0,150,10)\n",
    "    shrink=0.85\n",
    "    ax.set_extent(img_extent, ccrs.PlateCarree())\n",
    "    ax.coastlines()\n",
    "    ax.set_xticks([40,60,80,100,120], crs=ccrs.PlateCarree())       \n",
    "    ax.set_yticks([-10, 0,10, 20,30,40, 50], crs=ccrs.PlateCarree())\n",
    "    lon_formatter = LongitudeFormatter(zero_direction_label=True)\n",
    "    lat_formatter = LatitudeFormatter()\n",
    "    ax.xaxis.set_major_formatter(lon_formatter)\n",
    "    ax.yaxis.set_major_formatter(lat_formatter)\n",
    "    ax.tick_params(axis='both',labelsize=14)\n",
    "    c = ax.contourf(lon_r, lat_r, rain.rf[i,:,:], extent=img_extent, cmap=cmap1,\n",
    "            transform=ccrs.PlateCarree(),frames=100, interval=100, blit=True)\n",
    "    images_rain.append(c.collections)\n",
    "    camera.snap()"
   ]
  },
  {
   "cell_type": "markdown",
   "metadata": {},
   "source": [
    "# Wind animation"
   ]
  },
  {
   "cell_type": "code",
   "execution_count": 12,
   "metadata": {},
   "outputs": [],
   "source": [
    "ncep_u = xr.open_dataset('D:/pai/data/ncepreanalysis_uwnd.mon.mean_jan1948topresent.nc')\n",
    "ncep_v = xr.open_dataset('D:/pai/data/ncepreanalysis_vwind.mon.mean_jan1948topresent.nc')"
   ]
  },
  {
   "cell_type": "code",
   "execution_count": 13,
   "metadata": {},
   "outputs": [],
   "source": [
    "lon_w = ncep_u.lon\n",
    "lat_w = ncep_u.lat"
   ]
  },
  {
   "cell_type": "code",
   "execution_count": 14,
   "metadata": {},
   "outputs": [
    {
     "data": {
      "text/plain": [
       "<Figure size 1440x864 with 0 Axes>"
      ]
     },
     "metadata": {},
     "output_type": "display_data"
    }
   ],
   "source": [
    "fig=plt.figure(figsize=[20,12])\n",
    "camera = Camera(fig)\n",
    "images_wind=[]"
   ]
  },
  {
   "cell_type": "code",
   "execution_count": 15,
   "metadata": {},
   "outputs": [
    {
     "name": "stderr",
     "output_type": "stream",
     "text": [
      "C:\\Users\\This-PC\\Anaconda3\\lib\\site-packages\\ipykernel_launcher.py:3: MatplotlibDeprecationWarning: Adding an axes using the same arguments as a previous axes currently reuses the earlier instance.  In a future version, a new instance will always be created and returned.  Meanwhile, this warning can be suppressed, and the future behavior ensured, by passing a unique label to each axes instance.\n",
      "  This is separate from the ipykernel package so we can avoid doing imports until\n"
     ]
    }
   ],
   "source": [
    "for i in range(20):\n",
    "    img_extent =[40, 120, -10, 50] \n",
    "    ax = fig.add_subplot(1,1,1,projection=ccrs.PlateCarree())     #subplot 1 with only 1 frame ,plot projecttion\n",
    "    ax.set_extent(img_extent, ccrs.PlateCarree()) \n",
    "    levels=np.arange(0,150,10)\n",
    "    shrink=0.85\n",
    "    ax.set_extent(img_extent, ccrs.PlateCarree())\n",
    "    ax.coastlines()\n",
    "    ax.set_xticks([40,60,80,100,120], crs=ccrs.PlateCarree())       \n",
    "    ax.set_yticks([-10, 0,10, 20,30,40, 50], crs=ccrs.PlateCarree())\n",
    "    lon_formatter = LongitudeFormatter(zero_direction_label=True)\n",
    "    lat_formatter = LatitudeFormatter()\n",
    "    ax.xaxis.set_major_formatter(lon_formatter)\n",
    "    ax.yaxis.set_major_formatter(lat_formatter)\n",
    "    ax.tick_params(axis='both',labelsize=14)\n",
    "    q = ax.quiver(lon_w[::2],lat_w[::2],ncep_u.uwnd[i,0,::2,::2],           #plot wind   \n",
    "               ncep_v.vwnd[i,0,::2,::2],cmap='Reds',scale=150)\n",
    "    camera.snap()"
   ]
  },
  {
   "cell_type": "code",
   "execution_count": 16,
   "metadata": {},
   "outputs": [
    {
     "name": "stderr",
     "output_type": "stream",
     "text": [
      "MovieWriter imagemagick unavailable; trying to use <class 'matplotlib.animation.PillowWriter'> instead.\n"
     ]
    }
   ],
   "source": [
    "animation = camera.animate()\n",
    "animation.save('wind.gif', writer = 'imagemagick')"
   ]
  },
  {
   "cell_type": "markdown",
   "metadata": {},
   "source": [
    "# Animation with changing title "
   ]
  },
  {
   "cell_type": "code",
   "execution_count": 18,
   "metadata": {
    "scrolled": true
   },
   "outputs": [
    {
     "data": {
      "image/png": "[encoded data removed]",
      "text/plain": [
       "<Figure size 432x288 with 2 Axes>"
      ]
     },
     "metadata": {
      "needs_background": "light"
     },
     "output_type": "display_data"
    }
   ],
   "source": [
    "################ import modules #################\n",
    "import matplotlib.pyplot as plt\n",
    "import numpy as np\n",
    "import xarray as xr\n",
    "import pandas as pd\n",
    "import matplotlib.animation as animation\n",
    "\n",
    "from mpl_toolkits.axes_grid1 import make_axes_locatable\n",
    "###############################################################\n",
    "#################### Open a file ##############################\n",
    "\n",
    "ds = xr.open_dataset('D:/pai/data/imdrainfall_MERGED_DATA_S_ASIA_1982_2019.nc')\n",
    "\n",
    "###############################################################\n",
    "\n",
    "################## ANIMATION ###########################\n",
    "\n",
    "fig, ax = plt.subplots()\n",
    "divider = make_axes_locatable(ax)\n",
    "cax = divider.append_axes('right', size='5%', pad=0.05)\n",
    "\n",
    "text = ax.text(0,0,0)\n",
    "\n",
    "def update(iternum):\n",
    "    ax.clear()\n",
    "    ax.set_title('rain on '+ pd.to_datetime(ds.time[iternum].values).strftime('%Y-%b-%d'))\n",
    "   ######## This line change variable of each time steps ###########\n",
    "   ######## The variable used here has dimension of (time,level,lat,lon)#######\n",
    "   #  We are trying to animate over time so ime dimension set to iternum\n",
    "   # and for one level, hence level is set to 0 (You can change the level accordingly)\n",
    "    curVals  = ds.rf[iternum,:,:,]\n",
    "   \n",
    "    vmax     = np.max(curVals)\n",
    "    vmin     = np.min(curVals)\n",
    "   #print(vmax)\n",
    "    levels   = np.linspace(vmin, vmax, 200, endpoint = True)\n",
    "    p = ax.contourf(curVals, vmax=vmax, vmin=vmin, levels=levels)\n",
    "    fig.colorbar(p, cax=cax) # Colorbar does not update\n",
    "   \n",
    "   \n",
    "######### Chnage the frames value as you want, this value is cooresponding to number\n",
    "# of iteration or number of time steps for animation\n",
    "ani = animation.FuncAnimation(fig, update, frames=10, interval=500, blit=False,\n",
    "                             repeat_delay=2000)\n",
    "plt.show()\n"
   ]
  },
  {
   "cell_type": "code",
   "execution_count": 20,
   "metadata": {},
   "outputs": [
    {
     "name": "stderr",
     "output_type": "stream",
     "text": [
      "MovieWriter imagemagick unavailable; trying to use <class 'matplotlib.animation.PillowWriter'> instead.\n"
     ]
    }
   ],
   "source": [
    "ani.save('rain_changingname.gif', writer = 'imagemagick')"
   ]
  },
  {
   "cell_type": "code",
   "execution_count": null,
   "metadata": {},
   "outputs": [],
   "source": []
  }
 ],
 "metadata": {
  "kernelspec": {
   "display_name": "Python 3",
   "language": "python",
   "name": "python3"
  },
  "language_info": {
   "codemirror_mode": {
    "name": "ipython",
    "version": 3
   },
   "file_extension": ".py",
   "mimetype": "text/x-python",
   "name": "python",
   "nbconvert_exporter": "python",
   "pygments_lexer": "ipython3",
   "version": "3.8.3"
  }
 },
 "nbformat": 4,
 "nbformat_minor": 4
}
